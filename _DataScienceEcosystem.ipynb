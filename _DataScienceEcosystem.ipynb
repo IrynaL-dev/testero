{
 "cells": [
  {
   "cell_type": "markdown",
   "id": "10800b0f-7e54-48cb-80a0-389df8cf6440",
   "metadata": {},
   "source": [
    "# Data Science Tools and Ecosystem"
   ]
  },
  {
   "cell_type": "markdown",
   "id": "d927a0e3-c20c-4bd0-9c92-e154bf41e692",
   "metadata": {},
   "source": [
    "In this notebook, Data Science Tools and Ecosystem are summarized."
   ]
  },
  {
   "cell_type": "markdown",
   "id": "2e8b4621-d13c-46b3-a84e-70179aac2560",
   "metadata": {},
   "source": [
    "Some of the popular languages that Data Scientists use are:\n",
    "1. Pyton\n",
    "2. R\n",
    "3. SQLit."
   ]
  },
  {
   "cell_type": "markdown",
   "id": "b134e6ef-b962-4283-842b-7ad768a38246",
   "metadata": {},
   "source": [
    "_Some of the commonly used libraries used by Data Scientists include:_\n",
    "\n",
    "1. NumPy\n",
    "2. Pandas\n",
    "3. Matplotlib\n",
    "4. Scikit-learn\n",
    "5. TensorFlow"
   ]
  },
  {
   "cell_type": "markdown",
   "id": "c981647f-0bfe-485b-bddc-4bf59137388f",
   "metadata": {},
   "source": [
    "| Data |Science |Tools |\n",
    "| -----------------|-----------|------------- |\n",
    "| Jupyter Notebook | RStudio  | Apache Spark |"
   ]
  },
  {
   "cell_type": "markdown",
   "id": "5f115dd7-3a63-43c8-bf90-66862b304a78",
   "metadata": {},
   "source": [
    "### Below are a few examples of evaluating arithmetic expressions in Python\n"
   ]
  },
  {
   "cell_type": "code",
   "execution_count": 41,
   "id": "ee5ee8b6-b381-4d66-a12f-90e98c230b9c",
   "metadata": {},
   "outputs": [
    {
     "data": {
      "text/plain": [
       "17"
      ]
     },
     "execution_count": 41,
     "metadata": {},
     "output_type": "execute_result"
    }
   ],
   "source": [
    "#This a simple arithmetic expression to mutiply then add integers\n",
    "(3*4)+5"
   ]
  },
  {
   "cell_type": "code",
   "execution_count": 43,
   "id": "a3fe1822-a87a-468b-b840-ec01e35dba27",
   "metadata": {},
   "outputs": [],
   "source": [
    "#This will convert 200 minutes to hours by diving by 60\n",
    "hours = 200/60"
   ]
  },
  {
   "cell_type": "markdown",
   "id": "29416db1-fc04-426d-a1b2-cb3045aad9f7",
   "metadata": {},
   "source": [
    "**Objectives:**\n",
    "\n",
    "- List popular languages for Data Science\n",
    "- Understand basic data manipulation techniques\n",
    "- Explore key Python libraries for data analysis\n",
    "- Learn how to visualize data effectively\n",
    "- Apply machine learning algorithms on datasets"
   ]
  },
  {
   "cell_type": "markdown",
   "id": "8ea4f025-70a5-4a98-8824-72330a50acaa",
   "metadata": {},
   "source": [
    "## Author\n",
    "\n",
    "Iryna Lukysha"
   ]
  },
  {
   "cell_type": "code",
   "execution_count": null,
   "id": "c15bc17d-5851-43b1-8bda-feca86d524f7",
   "metadata": {},
   "outputs": [],
   "source": []
  }
 ],
 "metadata": {
  "kernelspec": {
   "display_name": "anaconda-ai-2024.04-py310",
   "language": "python",
   "name": "conda-env-anaconda-ai-2024.04-py310-py"
  },
  "language_info": {
   "codemirror_mode": {
    "name": "ipython",
    "version": 3
   },
   "file_extension": ".py",
   "mimetype": "text/x-python",
   "name": "python",
   "nbconvert_exporter": "python",
   "pygments_lexer": "ipython3",
   "version": "3.10.13"
  }
 },
 "nbformat": 4,
 "nbformat_minor": 5
}
